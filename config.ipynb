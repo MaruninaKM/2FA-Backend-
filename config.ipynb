{
 "cells": [
  {
   "cell_type": "code",
   "execution_count": 6,
   "id": "8986e8c0",
   "metadata": {},
   "outputs": [
    {
     "name": "stdout",
     "output_type": "stream",
     "text": [
      "Collecting mod-wsgi\n",
      "  Using cached mod_wsgi-5.0.0-cp310-cp310-win_amd64.whl\n",
      "Installing collected packages: mod-wsgi\n",
      "Successfully installed mod-wsgi-5.0.0\n"
     ]
    }
   ],
   "source": [
    "# !pip install flask-mysqldb\n",
    "# !pip install mod-wsgi\n"
   ]
  },
  {
   "cell_type": "code",
   "execution_count": 5,
   "id": "6bbff62a",
   "metadata": {
    "scrolled": true
   },
   "outputs": [
    {
     "name": "stdout",
     "output_type": "stream",
     "text": [
      "Name: mod_wsgi\n",
      "Version: 5.0.0\n",
      "Summary: Installer for Apache/mod_wsgi.\n",
      "Home-page: https://www.modwsgi.org/\n",
      "Author: Graham Dumpleton\n",
      "Author-email: Graham.Dumpleton@gmail.com\n",
      "License: Apache License, Version 2.0\n",
      "Location: c:\\users\\sumarn\\anaconda3\\lib\\site-packages\n",
      "Requires: \n",
      "Required-by: \n"
     ]
    }
   ],
   "source": [
    "# !pip show mod_wsgi"
   ]
  },
  {
   "cell_type": "code",
   "execution_count": 10,
   "id": "99ae6a43",
   "metadata": {},
   "outputs": [],
   "source": [
    "from flask import Flask\n",
    "from flask_mysqldb import MySQL\n",
    "\n",
    "app = Flask(__name__)\n",
    "\n",
    "# Настройки подключения к MySQL\n",
    "app.config['MYSQL_HOST'] = 'localhost'\n",
    "app.config['MYSQL_USER'] = 'root'\n",
    "app.config['MYSQL_PASSWORD'] = 'root'\n",
    "app.config['MYSQL_DB'] = 'diplom'\n",
    "\n",
    "# Создание объекта MySQL\n",
    "mysql = MySQL(app)"
   ]
  },
  {
   "cell_type": "code",
   "execution_count": 25,
   "id": "95bed92b",
   "metadata": {},
   "outputs": [
    {
     "name": "stdout",
     "output_type": "stream",
     "text": [
      " * Serving Flask app '__main__'\n",
      " * Debug mode: on\n"
     ]
    },
    {
     "name": "stderr",
     "output_type": "stream",
     "text": [
      "WARNING: This is a development server. Do not use it in a production deployment. Use a production WSGI server instead.\n",
      " * Running on http://127.0.0.1:5000\n",
      "Press CTRL+C to quit\n",
      " * Restarting with watchdog (windowsapi)\n"
     ]
    },
    {
     "ename": "SystemExit",
     "evalue": "1",
     "output_type": "error",
     "traceback": [
      "An exception has occurred, use %tb to see the full traceback.\n",
      "\u001b[1;31mSystemExit\u001b[0m\u001b[1;31m:\u001b[0m 1\n"
     ]
    }
   ],
   "source": [
    "from flask import Flask, render_template\n",
    "from flask_mysqldb import MySQL\n",
    "\n",
    "app = Flask(__name__)\n",
    "\n",
    "# Настройки подключения к MySQL\n",
    "app.config['MYSQL_HOST'] = 'localhost'\n",
    "app.config['MYSQL_USER'] = 'root'\n",
    "app.config['MYSQL_PASSWORD'] = 'root'\n",
    "app.config['MYSQL_DB'] = 'diplom'\n",
    "\n",
    "# Создание объекта MySQL\n",
    "mysql = MySQL(app)\n",
    "\n",
    "@app.route('/')\n",
    "def index():\n",
    "    cur = mysql.connection.cursor()\n",
    "    cur.execute(\"SELECT * FROM kod\")\n",
    "    data = cur.fetchall()\n",
    "    cur.close()\n",
    "    return render_template('index.html', data=data)\n",
    "\n",
    "if __name__ == '__main__':\n",
    "    app.run(debug=True)"
   ]
  },
  {
   "cell_type": "code",
   "execution_count": 8,
   "id": "26af3228",
   "metadata": {},
   "outputs": [],
   "source": [
    "# import encodings"
   ]
  },
  {
   "cell_type": "code",
   "execution_count": 10,
   "id": "ebab290e",
   "metadata": {},
   "outputs": [
    {
     "name": "stdout",
     "output_type": "stream",
     "text": [
      "Collecting encoders\n",
      "  Downloading encoders-0.0.4-cp310-cp310-win_amd64.whl.metadata (1.1 kB)\n",
      "Downloading encoders-0.0.4-cp310-cp310-win_amd64.whl (89 kB)\n",
      "   ---------------------------------------- 0.0/89.8 kB ? eta -:--:--\n",
      "   ------------- -------------------------- 30.7/89.8 kB 1.4 MB/s eta 0:00:01\n",
      "   --------------------------- ------------ 61.4/89.8 kB 656.4 kB/s eta 0:00:01\n",
      "   ---------------------------------------- 89.8/89.8 kB 636.2 kB/s eta 0:00:00\n",
      "Installing collected packages: encoders\n",
      "Successfully installed encoders-0.0.4\n"
     ]
    }
   ],
   "source": [
    "# !pip install encoders"
   ]
  },
  {
   "cell_type": "code",
   "execution_count": 21,
   "id": "6d66b6a4",
   "metadata": {},
   "outputs": [
    {
     "name": "stdout",
     "output_type": "stream",
     "text": [
      "PYTHONPATH: \n",
      "Directories in PYTHONPATH:\n",
      " - \n",
      "Directories in sys.path:\n",
      " - C:\\Users\\sumarn\\MyFlaskApp\n",
      " - C:\\Users\\sumarn\\anaconda3\\python310.zip\n",
      " - C:\\Users\\sumarn\\anaconda3\\DLLs\n",
      " - C:\\Users\\sumarn\\anaconda3\\lib\n",
      " - C:\\Users\\sumarn\\anaconda3\n",
      " - \n",
      " - C:\\Users\\sumarn\\anaconda3\\lib\\site-packages\n",
      " - C:\\Users\\sumarn\\anaconda3\\lib\\site-packages\\win32\n",
      " - C:\\Users\\sumarn\\anaconda3\\lib\\site-packages\\win32\\lib\n",
      " - C:\\Users\\sumarn\\anaconda3\\lib\\site-packages\\Pythonwin\n",
      " - C:/Users/sumarn/anaconda3/Lib/site-packages/mod_wsgi/server\n",
      " - C:/Users/sumarn/anaconda3/Lib/site-packages/mod_wsgi/server\n",
      "The directory containing mod_wsgi.cp310-win_amd64.pyd is in sys.path\n"
     ]
    }
   ],
   "source": [
    "import sys\n",
    "import os\n",
    "\n",
    "# Получаем значение переменной среды PYTHONPATH\n",
    "python_path = os.environ.get('PYTHONPATH', '')\n",
    "\n",
    "# Печатаем значение переменной среды PYTHONPATH\n",
    "print(\"PYTHONPATH:\", python_path)\n",
    "\n",
    "# Разделяем PYTHONPATH по разделителю пути (обычно это двоеточие на Unix-подобных системах и точка с запятой на Windows)\n",
    "python_path_list = python_path.split(os.pathsep)\n",
    "\n",
    "# Печатаем список каталогов, указанных в PYTHONPATH\n",
    "print(\"Directories in PYTHONPATH:\")\n",
    "for path in python_path_list:\n",
    "    print(\" -\", path)\n",
    "\n",
    "# Печатаем список каталогов в sys.path\n",
    "print(\"Directories in sys.path:\")\n",
    "for path in sys.path:\n",
    "    print(\" -\", path)\n",
    "\n",
    "# Проверяем, содержится ли путь к каталогу с mod_wsgi.cp310-win_amd64.pyd в sys.path\n",
    "wsgi_module_path = \"C:/Users/sumarn/anaconda3/Lib/site-packages/mod_wsgi/server\"  # Замените на путь к каталогу с mod_wsgi.cp310-win_amd64.pyd\n",
    "if wsgi_module_path in sys.path:\n",
    "    print(\"The directory containing mod_wsgi.cp310-win_amd64.pyd is in sys.path\")\n",
    "else:\n",
    "    print(\"The directory containing mod_wsgi.cp310-win_amd64.pyd is not in sys.path\")"
   ]
  },
  {
   "cell_type": "code",
   "execution_count": 16,
   "id": "db79edb7",
   "metadata": {},
   "outputs": [
    {
     "name": "stdout",
     "output_type": "stream",
     "text": [
      "64\n"
     ]
    }
   ],
   "source": [
    "import struct\n",
    "print(struct.calcsize('P') * 8)\n"
   ]
  },
  {
   "cell_type": "code",
   "execution_count": 23,
   "id": "39c4c7b4",
   "metadata": {},
   "outputs": [],
   "source": [
    "# import sys\n",
    "# sys.path.append('C:/Users/sumarn/anaconda3/Lib/site-packages/mod_wsgi/server')"
   ]
  },
  {
   "cell_type": "code",
   "execution_count": 24,
   "id": "c8b31cea",
   "metadata": {},
   "outputs": [
    {
     "ename": "SyntaxError",
     "evalue": "invalid syntax (246723087.py, line 1)",
     "output_type": "error",
     "traceback": [
      "\u001b[1;36m  Cell \u001b[1;32mIn[24], line 1\u001b[1;36m\u001b[0m\n\u001b[1;33m    mod_wsgi-express module-config\u001b[0m\n\u001b[1;37m                     ^\u001b[0m\n\u001b[1;31mSyntaxError\u001b[0m\u001b[1;31m:\u001b[0m invalid syntax\n"
     ]
    }
   ],
   "source": [
    "mod_wsgi-express module-config"
   ]
  },
  {
   "cell_type": "code",
   "execution_count": null,
   "id": "f65b1353",
   "metadata": {},
   "outputs": [],
   "source": []
  }
 ],
 "metadata": {
  "kernelspec": {
   "display_name": "Python 3 (ipykernel)",
   "language": "python",
   "name": "python3"
  },
  "language_info": {
   "codemirror_mode": {
    "name": "ipython",
    "version": 3
   },
   "file_extension": ".py",
   "mimetype": "text/x-python",
   "name": "python",
   "nbconvert_exporter": "python",
   "pygments_lexer": "ipython3",
   "version": "3.10.9"
  }
 },
 "nbformat": 4,
 "nbformat_minor": 5
}
