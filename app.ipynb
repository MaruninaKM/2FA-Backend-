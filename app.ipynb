{
 "cells": [
  {
   "cell_type": "code",
   "execution_count": 14,
   "id": "e2f59061",
   "metadata": {
    "scrolled": false
   },
   "outputs": [
    {
     "name": "stdout",
     "output_type": "stream",
     "text": [
      " * Serving Flask app '__main__'\n",
      " * Debug mode: off\n"
     ]
    },
    {
     "name": "stderr",
     "output_type": "stream",
     "text": [
      "WARNING: This is a development server. Do not use it in a production deployment. Use a production WSGI server instead.\n",
      " * Running on http://127.0.0.1:5000\n",
      "Press CTRL+C to quit\n",
      "[2024-06-18 20:33:11,105] ERROR in app: Exception on /key [GET]\n",
      "Traceback (most recent call last):\n",
      "  File \"C:\\Users\\sumarn\\anaconda3\\lib\\site-packages\\flask\\app.py\", line 1473, in wsgi_app\n",
      "    response = self.full_dispatch_request()\n",
      "  File \"C:\\Users\\sumarn\\anaconda3\\lib\\site-packages\\flask\\app.py\", line 882, in full_dispatch_request\n",
      "    rv = self.handle_user_exception(e)\n",
      "  File \"C:\\Users\\sumarn\\anaconda3\\lib\\site-packages\\flask_cors\\extension.py\", line 178, in wrapped_function\n",
      "    return cors_after_request(app.make_response(f(*args, **kwargs)))\n",
      "  File \"C:\\Users\\sumarn\\anaconda3\\lib\\site-packages\\flask\\app.py\", line 880, in full_dispatch_request\n",
      "    rv = self.dispatch_request()\n",
      "  File \"C:\\Users\\sumarn\\anaconda3\\lib\\site-packages\\flask\\app.py\", line 865, in dispatch_request\n",
      "    return self.ensure_sync(self.view_functions[rule.endpoint])(**view_args)  # type: ignore[no-any-return]\n",
      "  File \"C:\\Users\\sumarn\\AppData\\Local\\Temp\\ipykernel_15088\\3160037255.py\", line 416, in key\n",
      "    cur.execute(\"DELETE FROM kod WHERE login = %s\", (login,))\n",
      "  File \"C:\\Users\\sumarn\\anaconda3\\lib\\site-packages\\MySQLdb\\cursors.py\", line 179, in execute\n",
      "    res = self._query(mogrified_query)\n",
      "  File \"C:\\Users\\sumarn\\anaconda3\\lib\\site-packages\\MySQLdb\\cursors.py\", line 330, in _query\n",
      "    db.query(q)\n",
      "  File \"C:\\Users\\sumarn\\anaconda3\\lib\\site-packages\\MySQLdb\\connections.py\", line 261, in query\n",
      "    _mysql.connection.query(self, query)\n",
      "MySQLdb.OperationalError: (1442, \"Can't update table 'kod' in stored function/trigger because it is already used by statement which invoked this stored function/trigger.\")\n",
      "127.0.0.1 - - [18/Jun/2024 20:33:11] \"GET /key HTTP/1.1\" 500 -\n",
      "127.0.0.1 - - [18/Jun/2024 20:33:47] \"POST /andro HTTP/1.1\" 200 -\n",
      "127.0.0.1 - - [18/Jun/2024 20:33:47] \"POST /key HTTP/1.1\" 200 -\n"
     ]
    },
    {
     "name": "stdout",
     "output_type": "stream",
     "text": [
      "C:\\server\\data\\htdocs\\Diplom\\my-app\\public\\images\\sergey.png\n"
     ]
    },
    {
     "name": "stderr",
     "output_type": "stream",
     "text": [
      "[2024-06-18 20:33:48,901] ERROR in app: Exception on /key [GET]\n",
      "Traceback (most recent call last):\n",
      "  File \"C:\\Users\\sumarn\\anaconda3\\lib\\site-packages\\flask\\app.py\", line 1473, in wsgi_app\n",
      "    response = self.full_dispatch_request()\n",
      "  File \"C:\\Users\\sumarn\\anaconda3\\lib\\site-packages\\flask\\app.py\", line 882, in full_dispatch_request\n",
      "    rv = self.handle_user_exception(e)\n",
      "  File \"C:\\Users\\sumarn\\anaconda3\\lib\\site-packages\\flask_cors\\extension.py\", line 178, in wrapped_function\n",
      "    return cors_after_request(app.make_response(f(*args, **kwargs)))\n",
      "  File \"C:\\Users\\sumarn\\anaconda3\\lib\\site-packages\\flask\\app.py\", line 880, in full_dispatch_request\n",
      "    rv = self.dispatch_request()\n",
      "  File \"C:\\Users\\sumarn\\anaconda3\\lib\\site-packages\\flask\\app.py\", line 865, in dispatch_request\n",
      "    return self.ensure_sync(self.view_functions[rule.endpoint])(**view_args)  # type: ignore[no-any-return]\n",
      "  File \"C:\\Users\\sumarn\\AppData\\Local\\Temp\\ipykernel_15088\\3160037255.py\", line 416, in key\n",
      "    cur.execute(\"DELETE FROM kod WHERE login = %s\", (login,))\n",
      "  File \"C:\\Users\\sumarn\\anaconda3\\lib\\site-packages\\MySQLdb\\cursors.py\", line 179, in execute\n",
      "    res = self._query(mogrified_query)\n",
      "  File \"C:\\Users\\sumarn\\anaconda3\\lib\\site-packages\\MySQLdb\\cursors.py\", line 330, in _query\n",
      "    db.query(q)\n",
      "  File \"C:\\Users\\sumarn\\anaconda3\\lib\\site-packages\\MySQLdb\\connections.py\", line 261, in query\n",
      "    _mysql.connection.query(self, query)\n",
      "MySQLdb.OperationalError: (1442, \"Can't update table 'kod' in stored function/trigger because it is already used by statement which invoked this stored function/trigger.\")\n",
      "127.0.0.1 - - [18/Jun/2024 20:33:48] \"GET /key HTTP/1.1\" 500 -\n",
      "[2024-06-18 20:34:18,686] ERROR in app: Exception on /key [GET]\n",
      "Traceback (most recent call last):\n",
      "  File \"C:\\Users\\sumarn\\anaconda3\\lib\\site-packages\\flask\\app.py\", line 1473, in wsgi_app\n",
      "    response = self.full_dispatch_request()\n",
      "  File \"C:\\Users\\sumarn\\anaconda3\\lib\\site-packages\\flask\\app.py\", line 882, in full_dispatch_request\n",
      "    rv = self.handle_user_exception(e)\n",
      "  File \"C:\\Users\\sumarn\\anaconda3\\lib\\site-packages\\flask_cors\\extension.py\", line 178, in wrapped_function\n",
      "    return cors_after_request(app.make_response(f(*args, **kwargs)))\n",
      "  File \"C:\\Users\\sumarn\\anaconda3\\lib\\site-packages\\flask\\app.py\", line 880, in full_dispatch_request\n",
      "    rv = self.dispatch_request()\n",
      "  File \"C:\\Users\\sumarn\\anaconda3\\lib\\site-packages\\flask\\app.py\", line 865, in dispatch_request\n",
      "    return self.ensure_sync(self.view_functions[rule.endpoint])(**view_args)  # type: ignore[no-any-return]\n",
      "  File \"C:\\Users\\sumarn\\AppData\\Local\\Temp\\ipykernel_15088\\3160037255.py\", line 416, in key\n",
      "    cur.execute(\"DELETE FROM kod WHERE login = %s\", (login,))\n",
      "  File \"C:\\Users\\sumarn\\anaconda3\\lib\\site-packages\\MySQLdb\\cursors.py\", line 179, in execute\n",
      "    res = self._query(mogrified_query)\n",
      "  File \"C:\\Users\\sumarn\\anaconda3\\lib\\site-packages\\MySQLdb\\cursors.py\", line 330, in _query\n",
      "    db.query(q)\n",
      "  File \"C:\\Users\\sumarn\\anaconda3\\lib\\site-packages\\MySQLdb\\connections.py\", line 261, in query\n",
      "    _mysql.connection.query(self, query)\n",
      "MySQLdb.OperationalError: (1442, \"Can't update table 'kod' in stored function/trigger because it is already used by statement which invoked this stored function/trigger.\")\n",
      "127.0.0.1 - - [18/Jun/2024 20:34:18] \"GET /key HTTP/1.1\" 500 -\n",
      "127.0.0.1 - - [18/Jun/2024 20:34:48] \"GET /key HTTP/1.1\" 200 -\n"
     ]
    },
    {
     "name": "stdout",
     "output_type": "stream",
     "text": [
      "Ответ перед отправкой: {'code': '597858'}\n"
     ]
    },
    {
     "name": "stderr",
     "output_type": "stream",
     "text": [
      "127.0.0.1 - - [18/Jun/2024 20:35:18] \"GET /key HTTP/1.1\" 200 -\n"
     ]
    },
    {
     "name": "stdout",
     "output_type": "stream",
     "text": [
      "Ответ перед отправкой: {'code': '802700'}\n"
     ]
    },
    {
     "name": "stderr",
     "output_type": "stream",
     "text": [
      "127.0.0.1 - - [18/Jun/2024 20:35:48] \"GET /key HTTP/1.1\" 200 -\n"
     ]
    },
    {
     "name": "stdout",
     "output_type": "stream",
     "text": [
      "Ответ перед отправкой: {'code': '647960'}\n"
     ]
    },
    {
     "name": "stderr",
     "output_type": "stream",
     "text": [
      "127.0.0.1 - - [18/Jun/2024 20:36:18] \"GET /key HTTP/1.1\" 200 -\n"
     ]
    },
    {
     "name": "stdout",
     "output_type": "stream",
     "text": [
      "Ответ перед отправкой: {'code': '256785'}\n"
     ]
    },
    {
     "name": "stderr",
     "output_type": "stream",
     "text": [
      "127.0.0.1 - - [18/Jun/2024 20:36:48] \"GET /key HTTP/1.1\" 200 -\n"
     ]
    },
    {
     "name": "stdout",
     "output_type": "stream",
     "text": [
      "Ответ перед отправкой: {'code': '772117'}\n"
     ]
    },
    {
     "name": "stderr",
     "output_type": "stream",
     "text": [
      "127.0.0.1 - - [18/Jun/2024 20:37:09] \"POST /andro HTTP/1.1\" 401 -\n",
      "127.0.0.1 - - [18/Jun/2024 20:37:16] \"POST /andro HTTP/1.1\" 401 -\n",
      "127.0.0.1 - - [18/Jun/2024 20:37:50] \"POST /andro HTTP/1.1\" 401 -\n",
      "127.0.0.1 - - [18/Jun/2024 20:37:56] \"POST /andro HTTP/1.1\" 401 -\n",
      "127.0.0.1 - - [18/Jun/2024 20:54:47] \"POST /andro HTTP/1.1\" 200 -\n",
      "127.0.0.1 - - [18/Jun/2024 20:54:47] \"POST /key HTTP/1.1\" 200 -\n"
     ]
    },
    {
     "name": "stdout",
     "output_type": "stream",
     "text": [
      "C:\\server\\data\\htdocs\\Diplom\\my-app\\public\\images\\sergey.png\n"
     ]
    },
    {
     "name": "stderr",
     "output_type": "stream",
     "text": [
      "127.0.0.1 - - [18/Jun/2024 20:54:48] \"GET /key HTTP/1.1\" 200 -\n"
     ]
    },
    {
     "name": "stdout",
     "output_type": "stream",
     "text": [
      "Ответ перед отправкой: {'code': '523560'}\n"
     ]
    },
    {
     "name": "stderr",
     "output_type": "stream",
     "text": [
      "127.0.0.1 - - [18/Jun/2024 20:55:18] \"GET /key HTTP/1.1\" 200 -\n"
     ]
    },
    {
     "name": "stdout",
     "output_type": "stream",
     "text": [
      "Ответ перед отправкой: {'code': '066790'}\n"
     ]
    },
    {
     "name": "stderr",
     "output_type": "stream",
     "text": [
      "127.0.0.1 - - [18/Jun/2024 20:55:48] \"GET /key HTTP/1.1\" 200 -\n"
     ]
    },
    {
     "name": "stdout",
     "output_type": "stream",
     "text": [
      "Ответ перед отправкой: {'code': '137882'}\n"
     ]
    },
    {
     "name": "stderr",
     "output_type": "stream",
     "text": [
      "127.0.0.1 - - [18/Jun/2024 20:56:18] \"GET /key HTTP/1.1\" 200 -\n"
     ]
    },
    {
     "name": "stdout",
     "output_type": "stream",
     "text": [
      "Ответ перед отправкой: {'code': '918003'}\n"
     ]
    },
    {
     "name": "stderr",
     "output_type": "stream",
     "text": [
      "127.0.0.1 - - [18/Jun/2024 20:56:48] \"GET /key HTTP/1.1\" 200 -\n"
     ]
    },
    {
     "name": "stdout",
     "output_type": "stream",
     "text": [
      "Ответ перед отправкой: {'code': '184949'}\n"
     ]
    },
    {
     "name": "stderr",
     "output_type": "stream",
     "text": [
      "127.0.0.1 - - [18/Jun/2024 20:57:18] \"GET /key HTTP/1.1\" 200 -\n"
     ]
    },
    {
     "name": "stdout",
     "output_type": "stream",
     "text": [
      "Ответ перед отправкой: {'code': '911117'}\n"
     ]
    },
    {
     "name": "stderr",
     "output_type": "stream",
     "text": [
      "127.0.0.1 - - [18/Jun/2024 20:57:48] \"GET /key HTTP/1.1\" 200 -\n"
     ]
    },
    {
     "name": "stdout",
     "output_type": "stream",
     "text": [
      "Ответ перед отправкой: {'code': '049347'}\n"
     ]
    },
    {
     "name": "stderr",
     "output_type": "stream",
     "text": [
      "127.0.0.1 - - [18/Jun/2024 20:58:18] \"GET /key HTTP/1.1\" 200 -\n"
     ]
    },
    {
     "name": "stdout",
     "output_type": "stream",
     "text": [
      "Ответ перед отправкой: {'code': '442072'}\n"
     ]
    },
    {
     "name": "stderr",
     "output_type": "stream",
     "text": [
      "127.0.0.1 - - [18/Jun/2024 20:58:48] \"GET /key HTTP/1.1\" 200 -\n"
     ]
    },
    {
     "name": "stdout",
     "output_type": "stream",
     "text": [
      "Ответ перед отправкой: {'code': '585115'}\n"
     ]
    },
    {
     "name": "stderr",
     "output_type": "stream",
     "text": [
      "127.0.0.1 - - [18/Jun/2024 20:59:18] \"GET /key HTTP/1.1\" 200 -\n"
     ]
    },
    {
     "name": "stdout",
     "output_type": "stream",
     "text": [
      "Ответ перед отправкой: {'code': '707659'}\n"
     ]
    },
    {
     "name": "stderr",
     "output_type": "stream",
     "text": [
      "127.0.0.1 - - [18/Jun/2024 20:59:48] \"GET /key HTTP/1.1\" 200 -\n"
     ]
    },
    {
     "name": "stdout",
     "output_type": "stream",
     "text": [
      "Ответ перед отправкой: {'code': '415418'}\n"
     ]
    },
    {
     "name": "stderr",
     "output_type": "stream",
     "text": [
      "127.0.0.1 - - [18/Jun/2024 21:00:18] \"GET /key HTTP/1.1\" 200 -\n"
     ]
    },
    {
     "name": "stdout",
     "output_type": "stream",
     "text": [
      "Ответ перед отправкой: {'code': '784861'}\n"
     ]
    },
    {
     "name": "stderr",
     "output_type": "stream",
     "text": [
      "127.0.0.1 - - [18/Jun/2024 21:00:48] \"GET /key HTTP/1.1\" 200 -\n"
     ]
    },
    {
     "name": "stdout",
     "output_type": "stream",
     "text": [
      "Ответ перед отправкой: {'code': '360405'}\n"
     ]
    },
    {
     "name": "stderr",
     "output_type": "stream",
     "text": [
      "127.0.0.1 - - [18/Jun/2024 21:01:18] \"GET /key HTTP/1.1\" 200 -\n"
     ]
    },
    {
     "name": "stdout",
     "output_type": "stream",
     "text": [
      "Ответ перед отправкой: {'code': '954378'}\n"
     ]
    },
    {
     "name": "stderr",
     "output_type": "stream",
     "text": [
      "127.0.0.1 - - [18/Jun/2024 21:01:48] \"GET /key HTTP/1.1\" 200 -\n"
     ]
    },
    {
     "name": "stdout",
     "output_type": "stream",
     "text": [
      "Ответ перед отправкой: {'code': '466813'}\n"
     ]
    },
    {
     "name": "stderr",
     "output_type": "stream",
     "text": [
      "127.0.0.1 - - [18/Jun/2024 21:02:18] \"GET /key HTTP/1.1\" 200 -\n"
     ]
    },
    {
     "name": "stdout",
     "output_type": "stream",
     "text": [
      "Ответ перед отправкой: {'code': '235529'}\n"
     ]
    },
    {
     "name": "stderr",
     "output_type": "stream",
     "text": [
      "127.0.0.1 - - [18/Jun/2024 21:02:48] \"GET /key HTTP/1.1\" 200 -\n"
     ]
    },
    {
     "name": "stdout",
     "output_type": "stream",
     "text": [
      "Ответ перед отправкой: {'code': '346391'}\n"
     ]
    },
    {
     "name": "stderr",
     "output_type": "stream",
     "text": [
      "127.0.0.1 - - [18/Jun/2024 21:03:18] \"GET /key HTTP/1.1\" 200 -\n"
     ]
    },
    {
     "name": "stdout",
     "output_type": "stream",
     "text": [
      "Ответ перед отправкой: {'code': '458029'}\n"
     ]
    },
    {
     "name": "stderr",
     "output_type": "stream",
     "text": [
      "127.0.0.1 - - [18/Jun/2024 21:03:48] \"GET /key HTTP/1.1\" 200 -\n"
     ]
    },
    {
     "name": "stdout",
     "output_type": "stream",
     "text": [
      "Ответ перед отправкой: {'code': '653150'}\n"
     ]
    },
    {
     "name": "stderr",
     "output_type": "stream",
     "text": [
      "127.0.0.1 - - [18/Jun/2024 21:04:18] \"GET /key HTTP/1.1\" 200 -\n"
     ]
    },
    {
     "name": "stdout",
     "output_type": "stream",
     "text": [
      "Ответ перед отправкой: {'code': '743385'}\n"
     ]
    },
    {
     "name": "stderr",
     "output_type": "stream",
     "text": [
      "127.0.0.1 - - [18/Jun/2024 21:04:48] \"GET /key HTTP/1.1\" 200 -\n"
     ]
    },
    {
     "name": "stdout",
     "output_type": "stream",
     "text": [
      "Ответ перед отправкой: {'code': '412887'}\n"
     ]
    },
    {
     "name": "stderr",
     "output_type": "stream",
     "text": [
      "127.0.0.1 - - [18/Jun/2024 21:05:18] \"GET /key HTTP/1.1\" 200 -\n"
     ]
    },
    {
     "name": "stdout",
     "output_type": "stream",
     "text": [
      "Ответ перед отправкой: {'code': '562819'}\n"
     ]
    },
    {
     "name": "stderr",
     "output_type": "stream",
     "text": [
      "127.0.0.1 - - [18/Jun/2024 21:05:48] \"GET /key HTTP/1.1\" 200 -\n"
     ]
    },
    {
     "name": "stdout",
     "output_type": "stream",
     "text": [
      "Ответ перед отправкой: {'code': '634239'}\n"
     ]
    },
    {
     "name": "stderr",
     "output_type": "stream",
     "text": [
      "127.0.0.1 - - [18/Jun/2024 21:06:18] \"GET /key HTTP/1.1\" 200 -\n"
     ]
    },
    {
     "name": "stdout",
     "output_type": "stream",
     "text": [
      "Ответ перед отправкой: {'code': '246335'}\n"
     ]
    },
    {
     "name": "stderr",
     "output_type": "stream",
     "text": [
      "127.0.0.1 - - [18/Jun/2024 21:06:50] \"GET /key HTTP/1.1\" 200 -\n"
     ]
    },
    {
     "name": "stdout",
     "output_type": "stream",
     "text": [
      "Ответ перед отправкой: {'code': '506912'}\n"
     ]
    },
    {
     "name": "stderr",
     "output_type": "stream",
     "text": [
      "127.0.0.1 - - [18/Jun/2024 21:07:19] \"GET /key HTTP/1.1\" 200 -\n"
     ]
    },
    {
     "name": "stdout",
     "output_type": "stream",
     "text": [
      "Ответ перед отправкой: {'code': '762518'}\n"
     ]
    },
    {
     "name": "stderr",
     "output_type": "stream",
     "text": [
      "127.0.0.1 - - [18/Jun/2024 21:07:48] \"GET /key HTTP/1.1\" 200 -\n"
     ]
    },
    {
     "name": "stdout",
     "output_type": "stream",
     "text": [
      "Ответ перед отправкой: {'code': '654868'}\n"
     ]
    },
    {
     "name": "stderr",
     "output_type": "stream",
     "text": [
      "127.0.0.1 - - [18/Jun/2024 21:08:18] \"GET /key HTTP/1.1\" 200 -\n"
     ]
    },
    {
     "name": "stdout",
     "output_type": "stream",
     "text": [
      "Ответ перед отправкой: {'code': '892068'}\n"
     ]
    },
    {
     "name": "stderr",
     "output_type": "stream",
     "text": [
      "127.0.0.1 - - [18/Jun/2024 21:08:48] \"GET /key HTTP/1.1\" 200 -\n"
     ]
    },
    {
     "name": "stdout",
     "output_type": "stream",
     "text": [
      "Ответ перед отправкой: {'code': '331413'}\n"
     ]
    },
    {
     "name": "stderr",
     "output_type": "stream",
     "text": [
      "127.0.0.1 - - [18/Jun/2024 21:09:18] \"GET /key HTTP/1.1\" 200 -\n"
     ]
    },
    {
     "name": "stdout",
     "output_type": "stream",
     "text": [
      "Ответ перед отправкой: {'code': '042246'}\n"
     ]
    },
    {
     "name": "stderr",
     "output_type": "stream",
     "text": [
      "127.0.0.1 - - [18/Jun/2024 21:09:48] \"GET /key HTTP/1.1\" 200 -\n"
     ]
    },
    {
     "name": "stdout",
     "output_type": "stream",
     "text": [
      "Ответ перед отправкой: {'code': '191663'}\n"
     ]
    },
    {
     "name": "stderr",
     "output_type": "stream",
     "text": [
      "127.0.0.1 - - [18/Jun/2024 21:10:18] \"GET /key HTTP/1.1\" 200 -\n"
     ]
    },
    {
     "name": "stdout",
     "output_type": "stream",
     "text": [
      "Ответ перед отправкой: {'code': '512701'}\n"
     ]
    },
    {
     "name": "stderr",
     "output_type": "stream",
     "text": [
      "127.0.0.1 - - [18/Jun/2024 21:10:48] \"GET /key HTTP/1.1\" 200 -\n"
     ]
    },
    {
     "name": "stdout",
     "output_type": "stream",
     "text": [
      "Ответ перед отправкой: {'code': '588553'}\n"
     ]
    },
    {
     "name": "stderr",
     "output_type": "stream",
     "text": [
      "127.0.0.1 - - [18/Jun/2024 21:11:18] \"GET /key HTTP/1.1\" 200 -\n"
     ]
    },
    {
     "name": "stdout",
     "output_type": "stream",
     "text": [
      "Ответ перед отправкой: {'code': '848256'}\n"
     ]
    },
    {
     "name": "stderr",
     "output_type": "stream",
     "text": [
      "127.0.0.1 - - [18/Jun/2024 21:11:48] \"GET /key HTTP/1.1\" 200 -\n"
     ]
    },
    {
     "name": "stdout",
     "output_type": "stream",
     "text": [
      "Ответ перед отправкой: {'code': '396310'}\n"
     ]
    },
    {
     "name": "stderr",
     "output_type": "stream",
     "text": [
      "127.0.0.1 - - [18/Jun/2024 21:12:18] \"GET /key HTTP/1.1\" 200 -\n"
     ]
    },
    {
     "name": "stdout",
     "output_type": "stream",
     "text": [
      "Ответ перед отправкой: {'code': '220084'}\n"
     ]
    },
    {
     "name": "stderr",
     "output_type": "stream",
     "text": [
      "127.0.0.1 - - [18/Jun/2024 21:12:48] \"GET /key HTTP/1.1\" 200 -\n"
     ]
    },
    {
     "name": "stdout",
     "output_type": "stream",
     "text": [
      "Ответ перед отправкой: {'code': '688751'}\n"
     ]
    },
    {
     "name": "stderr",
     "output_type": "stream",
     "text": [
      "127.0.0.1 - - [18/Jun/2024 21:13:18] \"GET /key HTTP/1.1\" 200 -\n"
     ]
    },
    {
     "name": "stdout",
     "output_type": "stream",
     "text": [
      "Ответ перед отправкой: {'code': '194761'}\n"
     ]
    },
    {
     "name": "stderr",
     "output_type": "stream",
     "text": [
      "127.0.0.1 - - [18/Jun/2024 21:13:48] \"GET /key HTTP/1.1\" 200 -\n"
     ]
    },
    {
     "name": "stdout",
     "output_type": "stream",
     "text": [
      "Ответ перед отправкой: {'code': '639819'}\n"
     ]
    },
    {
     "name": "stderr",
     "output_type": "stream",
     "text": [
      "127.0.0.1 - - [18/Jun/2024 21:14:18] \"GET /key HTTP/1.1\" 200 -\n"
     ]
    },
    {
     "name": "stdout",
     "output_type": "stream",
     "text": [
      "Ответ перед отправкой: {'code': '022935'}\n"
     ]
    },
    {
     "name": "stderr",
     "output_type": "stream",
     "text": [
      "127.0.0.1 - - [18/Jun/2024 21:14:48] \"GET /key HTTP/1.1\" 200 -\n"
     ]
    },
    {
     "name": "stdout",
     "output_type": "stream",
     "text": [
      "Ответ перед отправкой: {'code': '207068'}\n"
     ]
    },
    {
     "name": "stderr",
     "output_type": "stream",
     "text": [
      "127.0.0.1 - - [18/Jun/2024 21:15:18] \"GET /key HTTP/1.1\" 200 -\n"
     ]
    },
    {
     "name": "stdout",
     "output_type": "stream",
     "text": [
      "Ответ перед отправкой: {'code': '695624'}\n"
     ]
    },
    {
     "name": "stderr",
     "output_type": "stream",
     "text": [
      "127.0.0.1 - - [18/Jun/2024 21:15:48] \"GET /key HTTP/1.1\" 200 -\n"
     ]
    },
    {
     "name": "stdout",
     "output_type": "stream",
     "text": [
      "Ответ перед отправкой: {'code': '230485'}\n"
     ]
    },
    {
     "name": "stderr",
     "output_type": "stream",
     "text": [
      "127.0.0.1 - - [18/Jun/2024 21:16:18] \"GET /key HTTP/1.1\" 200 -\n"
     ]
    },
    {
     "name": "stdout",
     "output_type": "stream",
     "text": [
      "Ответ перед отправкой: {'code': '087659'}\n"
     ]
    },
    {
     "name": "stderr",
     "output_type": "stream",
     "text": [
      "127.0.0.1 - - [18/Jun/2024 21:16:48] \"GET /key HTTP/1.1\" 200 -\n"
     ]
    },
    {
     "name": "stdout",
     "output_type": "stream",
     "text": [
      "Ответ перед отправкой: {'code': '738498'}\n"
     ]
    },
    {
     "name": "stderr",
     "output_type": "stream",
     "text": [
      "127.0.0.1 - - [18/Jun/2024 21:17:18] \"GET /key HTTP/1.1\" 200 -\n"
     ]
    },
    {
     "name": "stdout",
     "output_type": "stream",
     "text": [
      "Ответ перед отправкой: {'code': '148770'}\n"
     ]
    },
    {
     "name": "stderr",
     "output_type": "stream",
     "text": [
      "127.0.0.1 - - [18/Jun/2024 21:17:48] \"GET /key HTTP/1.1\" 200 -\n"
     ]
    },
    {
     "name": "stdout",
     "output_type": "stream",
     "text": [
      "Ответ перед отправкой: {'code': '612174'}\n"
     ]
    },
    {
     "name": "stderr",
     "output_type": "stream",
     "text": [
      "127.0.0.1 - - [18/Jun/2024 21:18:18] \"GET /key HTTP/1.1\" 200 -\n"
     ]
    },
    {
     "name": "stdout",
     "output_type": "stream",
     "text": [
      "Ответ перед отправкой: {'code': '965933'}\n"
     ]
    },
    {
     "name": "stderr",
     "output_type": "stream",
     "text": [
      "127.0.0.1 - - [18/Jun/2024 21:18:48] \"GET /key HTTP/1.1\" 200 -\n"
     ]
    },
    {
     "name": "stdout",
     "output_type": "stream",
     "text": [
      "Ответ перед отправкой: {'code': '749712'}\n"
     ]
    },
    {
     "name": "stderr",
     "output_type": "stream",
     "text": [
      "127.0.0.1 - - [18/Jun/2024 21:19:18] \"GET /key HTTP/1.1\" 200 -\n"
     ]
    },
    {
     "name": "stdout",
     "output_type": "stream",
     "text": [
      "Ответ перед отправкой: {'code': '735137'}\n"
     ]
    },
    {
     "name": "stderr",
     "output_type": "stream",
     "text": [
      "127.0.0.1 - - [18/Jun/2024 21:19:48] \"GET /key HTTP/1.1\" 200 -\n"
     ]
    },
    {
     "name": "stdout",
     "output_type": "stream",
     "text": [
      "Ответ перед отправкой: {'code': '602776'}\n"
     ]
    },
    {
     "name": "stderr",
     "output_type": "stream",
     "text": [
      "127.0.0.1 - - [18/Jun/2024 21:20:18] \"GET /key HTTP/1.1\" 200 -\n"
     ]
    },
    {
     "name": "stdout",
     "output_type": "stream",
     "text": [
      "Ответ перед отправкой: {'code': '256180'}\n"
     ]
    },
    {
     "name": "stderr",
     "output_type": "stream",
     "text": [
      "127.0.0.1 - - [18/Jun/2024 21:20:48] \"GET /key HTTP/1.1\" 200 -\n"
     ]
    },
    {
     "name": "stdout",
     "output_type": "stream",
     "text": [
      "Ответ перед отправкой: {'code': '757519'}\n"
     ]
    },
    {
     "name": "stderr",
     "output_type": "stream",
     "text": [
      "127.0.0.1 - - [18/Jun/2024 21:21:18] \"GET /key HTTP/1.1\" 200 -\n"
     ]
    },
    {
     "name": "stdout",
     "output_type": "stream",
     "text": [
      "Ответ перед отправкой: {'code': '951793'}\n"
     ]
    },
    {
     "name": "stderr",
     "output_type": "stream",
     "text": [
      "127.0.0.1 - - [18/Jun/2024 21:21:48] \"GET /key HTTP/1.1\" 200 -\n"
     ]
    },
    {
     "name": "stdout",
     "output_type": "stream",
     "text": [
      "Ответ перед отправкой: {'code': '009122'}\n"
     ]
    },
    {
     "name": "stderr",
     "output_type": "stream",
     "text": [
      "127.0.0.1 - - [18/Jun/2024 21:22:18] \"GET /key HTTP/1.1\" 200 -\n"
     ]
    },
    {
     "name": "stdout",
     "output_type": "stream",
     "text": [
      "Ответ перед отправкой: {'code': '772625'}\n"
     ]
    },
    {
     "name": "stderr",
     "output_type": "stream",
     "text": [
      "127.0.0.1 - - [18/Jun/2024 21:22:48] \"GET /key HTTP/1.1\" 200 -\n"
     ]
    },
    {
     "name": "stdout",
     "output_type": "stream",
     "text": [
      "Ответ перед отправкой: {'code': '974814'}\n"
     ]
    },
    {
     "name": "stderr",
     "output_type": "stream",
     "text": [
      "127.0.0.1 - - [18/Jun/2024 21:23:18] \"GET /key HTTP/1.1\" 200 -\n"
     ]
    },
    {
     "name": "stdout",
     "output_type": "stream",
     "text": [
      "Ответ перед отправкой: {'code': '699475'}\n"
     ]
    },
    {
     "name": "stderr",
     "output_type": "stream",
     "text": [
      "127.0.0.1 - - [18/Jun/2024 21:23:48] \"GET /key HTTP/1.1\" 200 -\n"
     ]
    },
    {
     "name": "stdout",
     "output_type": "stream",
     "text": [
      "Ответ перед отправкой: {'code': '500803'}\n"
     ]
    },
    {
     "name": "stderr",
     "output_type": "stream",
     "text": [
      "127.0.0.1 - - [18/Jun/2024 21:24:18] \"GET /key HTTP/1.1\" 200 -\n"
     ]
    },
    {
     "name": "stdout",
     "output_type": "stream",
     "text": [
      "Ответ перед отправкой: {'code': '673047'}\n"
     ]
    },
    {
     "name": "stderr",
     "output_type": "stream",
     "text": [
      "127.0.0.1 - - [18/Jun/2024 21:24:48] \"GET /key HTTP/1.1\" 200 -\n"
     ]
    },
    {
     "name": "stdout",
     "output_type": "stream",
     "text": [
      "Ответ перед отправкой: {'code': '818763'}\n"
     ]
    },
    {
     "name": "stderr",
     "output_type": "stream",
     "text": [
      "127.0.0.1 - - [18/Jun/2024 21:25:18] \"GET /key HTTP/1.1\" 200 -\n"
     ]
    },
    {
     "name": "stdout",
     "output_type": "stream",
     "text": [
      "Ответ перед отправкой: {'code': '661833'}\n"
     ]
    },
    {
     "name": "stderr",
     "output_type": "stream",
     "text": [
      "127.0.0.1 - - [18/Jun/2024 21:25:48] \"GET /key HTTP/1.1\" 200 -\n"
     ]
    },
    {
     "name": "stdout",
     "output_type": "stream",
     "text": [
      "Ответ перед отправкой: {'code': '669296'}\n"
     ]
    },
    {
     "name": "stderr",
     "output_type": "stream",
     "text": [
      "127.0.0.1 - - [18/Jun/2024 21:26:18] \"GET /key HTTP/1.1\" 200 -\n"
     ]
    },
    {
     "name": "stdout",
     "output_type": "stream",
     "text": [
      "Ответ перед отправкой: {'code': '695864'}\n"
     ]
    },
    {
     "name": "stderr",
     "output_type": "stream",
     "text": [
      "127.0.0.1 - - [18/Jun/2024 21:26:48] \"GET /key HTTP/1.1\" 200 -\n"
     ]
    },
    {
     "name": "stdout",
     "output_type": "stream",
     "text": [
      "Ответ перед отправкой: {'code': '306112'}\n"
     ]
    },
    {
     "name": "stderr",
     "output_type": "stream",
     "text": [
      "127.0.0.1 - - [18/Jun/2024 21:27:18] \"GET /key HTTP/1.1\" 200 -\n"
     ]
    },
    {
     "name": "stdout",
     "output_type": "stream",
     "text": [
      "Ответ перед отправкой: {'code': '707225'}\n"
     ]
    },
    {
     "name": "stderr",
     "output_type": "stream",
     "text": [
      "127.0.0.1 - - [18/Jun/2024 21:27:48] \"GET /key HTTP/1.1\" 200 -\n"
     ]
    },
    {
     "name": "stdout",
     "output_type": "stream",
     "text": [
      "Ответ перед отправкой: {'code': '885948'}\n"
     ]
    },
    {
     "name": "stderr",
     "output_type": "stream",
     "text": [
      "127.0.0.1 - - [18/Jun/2024 21:28:18] \"GET /key HTTP/1.1\" 200 -\n"
     ]
    },
    {
     "name": "stdout",
     "output_type": "stream",
     "text": [
      "Ответ перед отправкой: {'code': '427261'}\n"
     ]
    },
    {
     "name": "stderr",
     "output_type": "stream",
     "text": [
      "127.0.0.1 - - [18/Jun/2024 21:28:49] \"GET /key HTTP/1.1\" 200 -\n"
     ]
    },
    {
     "name": "stdout",
     "output_type": "stream",
     "text": [
      "Ответ перед отправкой: {'code': '272087'}\n"
     ]
    },
    {
     "name": "stderr",
     "output_type": "stream",
     "text": [
      "127.0.0.1 - - [18/Jun/2024 21:29:18] \"GET /key HTTP/1.1\" 200 -\n"
     ]
    },
    {
     "name": "stdout",
     "output_type": "stream",
     "text": [
      "Ответ перед отправкой: {'code': '527258'}\n"
     ]
    },
    {
     "name": "stderr",
     "output_type": "stream",
     "text": [
      "127.0.0.1 - - [18/Jun/2024 21:29:48] \"GET /key HTTP/1.1\" 200 -\n"
     ]
    },
    {
     "name": "stdout",
     "output_type": "stream",
     "text": [
      "Ответ перед отправкой: {'code': '378512'}\n"
     ]
    },
    {
     "name": "stderr",
     "output_type": "stream",
     "text": [
      "127.0.0.1 - - [18/Jun/2024 21:30:18] \"GET /key HTTP/1.1\" 200 -\n"
     ]
    },
    {
     "name": "stdout",
     "output_type": "stream",
     "text": [
      "Ответ перед отправкой: {'code': '891733'}\n"
     ]
    },
    {
     "name": "stderr",
     "output_type": "stream",
     "text": [
      "127.0.0.1 - - [18/Jun/2024 21:30:49] \"GET /key HTTP/1.1\" 200 -\n"
     ]
    },
    {
     "name": "stdout",
     "output_type": "stream",
     "text": [
      "Ответ перед отправкой: {'code': '722203'}\n"
     ]
    },
    {
     "name": "stderr",
     "output_type": "stream",
     "text": [
      "127.0.0.1 - - [18/Jun/2024 21:31:18] \"GET /key HTTP/1.1\" 200 -\n"
     ]
    },
    {
     "name": "stdout",
     "output_type": "stream",
     "text": [
      "Ответ перед отправкой: {'code': '097309'}\n"
     ]
    },
    {
     "name": "stderr",
     "output_type": "stream",
     "text": [
      "127.0.0.1 - - [18/Jun/2024 21:31:48] \"GET /key HTTP/1.1\" 200 -\n"
     ]
    },
    {
     "name": "stdout",
     "output_type": "stream",
     "text": [
      "Ответ перед отправкой: {'code': '317917'}\n"
     ]
    },
    {
     "name": "stderr",
     "output_type": "stream",
     "text": [
      "127.0.0.1 - - [18/Jun/2024 21:32:18] \"GET /key HTTP/1.1\" 200 -\n"
     ]
    },
    {
     "name": "stdout",
     "output_type": "stream",
     "text": [
      "Ответ перед отправкой: {'code': '482606'}\n"
     ]
    },
    {
     "name": "stderr",
     "output_type": "stream",
     "text": [
      "127.0.0.1 - - [18/Jun/2024 21:32:49] \"GET /key HTTP/1.1\" 200 -\n"
     ]
    },
    {
     "name": "stdout",
     "output_type": "stream",
     "text": [
      "Ответ перед отправкой: {'code': '079278'}\n"
     ]
    },
    {
     "name": "stderr",
     "output_type": "stream",
     "text": [
      "127.0.0.1 - - [18/Jun/2024 21:33:18] \"GET /key HTTP/1.1\" 200 -\n"
     ]
    },
    {
     "name": "stdout",
     "output_type": "stream",
     "text": [
      "Ответ перед отправкой: {'code': '520930'}\n"
     ]
    },
    {
     "name": "stderr",
     "output_type": "stream",
     "text": [
      "127.0.0.1 - - [18/Jun/2024 21:33:48] \"GET /key HTTP/1.1\" 200 -\n"
     ]
    },
    {
     "name": "stdout",
     "output_type": "stream",
     "text": [
      "Ответ перед отправкой: {'code': '183850'}\n"
     ]
    },
    {
     "name": "stderr",
     "output_type": "stream",
     "text": [
      "127.0.0.1 - - [18/Jun/2024 21:34:18] \"GET /key HTTP/1.1\" 200 -\n"
     ]
    },
    {
     "name": "stdout",
     "output_type": "stream",
     "text": [
      "Ответ перед отправкой: {'code': '230403'}\n"
     ]
    },
    {
     "name": "stderr",
     "output_type": "stream",
     "text": [
      "127.0.0.1 - - [18/Jun/2024 21:34:48] \"GET /key HTTP/1.1\" 200 -\n"
     ]
    },
    {
     "name": "stdout",
     "output_type": "stream",
     "text": [
      "Ответ перед отправкой: {'code': '335900'}\n"
     ]
    },
    {
     "name": "stderr",
     "output_type": "stream",
     "text": [
      "127.0.0.1 - - [18/Jun/2024 21:35:18] \"GET /key HTTP/1.1\" 200 -\n"
     ]
    },
    {
     "name": "stdout",
     "output_type": "stream",
     "text": [
      "Ответ перед отправкой: {'code': '156717'}\n"
     ]
    },
    {
     "name": "stderr",
     "output_type": "stream",
     "text": [
      "127.0.0.1 - - [18/Jun/2024 21:35:48] \"GET /key HTTP/1.1\" 200 -\n"
     ]
    },
    {
     "name": "stdout",
     "output_type": "stream",
     "text": [
      "Ответ перед отправкой: {'code': '453046'}\n"
     ]
    },
    {
     "name": "stderr",
     "output_type": "stream",
     "text": [
      "127.0.0.1 - - [18/Jun/2024 21:36:18] \"GET /key HTTP/1.1\" 200 -\n"
     ]
    },
    {
     "name": "stdout",
     "output_type": "stream",
     "text": [
      "Ответ перед отправкой: {'code': '640651'}\n"
     ]
    },
    {
     "name": "stderr",
     "output_type": "stream",
     "text": [
      "127.0.0.1 - - [18/Jun/2024 21:36:48] \"GET /key HTTP/1.1\" 200 -\n"
     ]
    },
    {
     "name": "stdout",
     "output_type": "stream",
     "text": [
      "Ответ перед отправкой: {'code': '313161'}\n"
     ]
    },
    {
     "name": "stderr",
     "output_type": "stream",
     "text": [
      "127.0.0.1 - - [18/Jun/2024 21:37:18] \"GET /key HTTP/1.1\" 200 -\n"
     ]
    },
    {
     "name": "stdout",
     "output_type": "stream",
     "text": [
      "Ответ перед отправкой: {'code': '321010'}\n"
     ]
    },
    {
     "name": "stderr",
     "output_type": "stream",
     "text": [
      "127.0.0.1 - - [18/Jun/2024 21:37:48] \"GET /key HTTP/1.1\" 200 -\n"
     ]
    },
    {
     "name": "stdout",
     "output_type": "stream",
     "text": [
      "Ответ перед отправкой: {'code': '202052'}\n"
     ]
    },
    {
     "name": "stderr",
     "output_type": "stream",
     "text": [
      "127.0.0.1 - - [18/Jun/2024 21:38:18] \"GET /key HTTP/1.1\" 200 -\n"
     ]
    },
    {
     "name": "stdout",
     "output_type": "stream",
     "text": [
      "Ответ перед отправкой: {'code': '203331'}\n"
     ]
    },
    {
     "name": "stderr",
     "output_type": "stream",
     "text": [
      "127.0.0.1 - - [18/Jun/2024 21:38:48] \"GET /key HTTP/1.1\" 200 -\n"
     ]
    },
    {
     "name": "stdout",
     "output_type": "stream",
     "text": [
      "Ответ перед отправкой: {'code': '767045'}\n"
     ]
    },
    {
     "name": "stderr",
     "output_type": "stream",
     "text": [
      "127.0.0.1 - - [18/Jun/2024 21:39:18] \"GET /key HTTP/1.1\" 200 -\n"
     ]
    },
    {
     "name": "stdout",
     "output_type": "stream",
     "text": [
      "Ответ перед отправкой: {'code': '232841'}\n"
     ]
    },
    {
     "name": "stderr",
     "output_type": "stream",
     "text": [
      "127.0.0.1 - - [18/Jun/2024 21:39:48] \"GET /key HTTP/1.1\" 200 -\n"
     ]
    },
    {
     "name": "stdout",
     "output_type": "stream",
     "text": [
      "Ответ перед отправкой: {'code': '360599'}\n"
     ]
    },
    {
     "name": "stderr",
     "output_type": "stream",
     "text": [
      "127.0.0.1 - - [18/Jun/2024 21:40:18] \"GET /key HTTP/1.1\" 200 -\n"
     ]
    },
    {
     "name": "stdout",
     "output_type": "stream",
     "text": [
      "Ответ перед отправкой: {'code': '080314'}\n"
     ]
    },
    {
     "name": "stderr",
     "output_type": "stream",
     "text": [
      "127.0.0.1 - - [18/Jun/2024 21:40:49] \"GET /key HTTP/1.1\" 200 -\n"
     ]
    },
    {
     "name": "stdout",
     "output_type": "stream",
     "text": [
      "Ответ перед отправкой: {'code': '041350'}\n"
     ]
    },
    {
     "name": "stderr",
     "output_type": "stream",
     "text": [
      "127.0.0.1 - - [18/Jun/2024 21:41:18] \"GET /key HTTP/1.1\" 200 -\n"
     ]
    },
    {
     "name": "stdout",
     "output_type": "stream",
     "text": [
      "Ответ перед отправкой: {'code': '600172'}\n"
     ]
    },
    {
     "name": "stderr",
     "output_type": "stream",
     "text": [
      "127.0.0.1 - - [18/Jun/2024 21:41:48] \"GET /key HTTP/1.1\" 200 -\n"
     ]
    },
    {
     "name": "stdout",
     "output_type": "stream",
     "text": [
      "Ответ перед отправкой: {'code': '052584'}\n"
     ]
    },
    {
     "name": "stderr",
     "output_type": "stream",
     "text": [
      "127.0.0.1 - - [18/Jun/2024 21:42:18] \"GET /key HTTP/1.1\" 200 -\n"
     ]
    },
    {
     "name": "stdout",
     "output_type": "stream",
     "text": [
      "Ответ перед отправкой: {'code': '880250'}\n"
     ]
    },
    {
     "name": "stderr",
     "output_type": "stream",
     "text": [
      "127.0.0.1 - - [18/Jun/2024 21:42:48] \"GET /key HTTP/1.1\" 200 -\n"
     ]
    },
    {
     "name": "stdout",
     "output_type": "stream",
     "text": [
      "Ответ перед отправкой: {'code': '806126'}\n"
     ]
    },
    {
     "name": "stderr",
     "output_type": "stream",
     "text": [
      "127.0.0.1 - - [18/Jun/2024 21:43:18] \"GET /key HTTP/1.1\" 200 -\n"
     ]
    },
    {
     "name": "stdout",
     "output_type": "stream",
     "text": [
      "Ответ перед отправкой: {'code': '621322'}\n"
     ]
    },
    {
     "name": "stderr",
     "output_type": "stream",
     "text": [
      "127.0.0.1 - - [18/Jun/2024 21:43:48] \"GET /key HTTP/1.1\" 200 -\n"
     ]
    },
    {
     "name": "stdout",
     "output_type": "stream",
     "text": [
      "Ответ перед отправкой: {'code': '220049'}\n"
     ]
    },
    {
     "name": "stderr",
     "output_type": "stream",
     "text": [
      "127.0.0.1 - - [18/Jun/2024 21:44:18] \"GET /key HTTP/1.1\" 200 -\n"
     ]
    },
    {
     "name": "stdout",
     "output_type": "stream",
     "text": [
      "Ответ перед отправкой: {'code': '787661'}\n"
     ]
    },
    {
     "name": "stderr",
     "output_type": "stream",
     "text": [
      "127.0.0.1 - - [18/Jun/2024 21:44:48] \"GET /key HTTP/1.1\" 200 -\n"
     ]
    },
    {
     "name": "stdout",
     "output_type": "stream",
     "text": [
      "Ответ перед отправкой: {'code': '894307'}\n"
     ]
    },
    {
     "name": "stderr",
     "output_type": "stream",
     "text": [
      "127.0.0.1 - - [18/Jun/2024 21:45:18] \"GET /key HTTP/1.1\" 200 -\n"
     ]
    },
    {
     "name": "stdout",
     "output_type": "stream",
     "text": [
      "Ответ перед отправкой: {'code': '977418'}\n"
     ]
    },
    {
     "name": "stderr",
     "output_type": "stream",
     "text": [
      "127.0.0.1 - - [18/Jun/2024 21:45:48] \"GET /key HTTP/1.1\" 200 -\n"
     ]
    },
    {
     "name": "stdout",
     "output_type": "stream",
     "text": [
      "Ответ перед отправкой: {'code': '116978'}\n"
     ]
    },
    {
     "name": "stderr",
     "output_type": "stream",
     "text": [
      "127.0.0.1 - - [18/Jun/2024 21:46:18] \"GET /key HTTP/1.1\" 200 -\n"
     ]
    },
    {
     "name": "stdout",
     "output_type": "stream",
     "text": [
      "Ответ перед отправкой: {'code': '847637'}\n"
     ]
    },
    {
     "name": "stderr",
     "output_type": "stream",
     "text": [
      "127.0.0.1 - - [18/Jun/2024 21:46:48] \"GET /key HTTP/1.1\" 200 -\n"
     ]
    },
    {
     "name": "stdout",
     "output_type": "stream",
     "text": [
      "Ответ перед отправкой: {'code': '009039'}\n"
     ]
    },
    {
     "name": "stderr",
     "output_type": "stream",
     "text": [
      "127.0.0.1 - - [18/Jun/2024 21:47:18] \"GET /key HTTP/1.1\" 200 -\n"
     ]
    },
    {
     "name": "stdout",
     "output_type": "stream",
     "text": [
      "Ответ перед отправкой: {'code': '094221'}\n"
     ]
    },
    {
     "name": "stderr",
     "output_type": "stream",
     "text": [
      "127.0.0.1 - - [18/Jun/2024 21:47:49] \"GET /key HTTP/1.1\" 200 -\n"
     ]
    },
    {
     "name": "stdout",
     "output_type": "stream",
     "text": [
      "Ответ перед отправкой: {'code': '710101'}\n"
     ]
    },
    {
     "name": "stderr",
     "output_type": "stream",
     "text": [
      "127.0.0.1 - - [18/Jun/2024 21:48:18] \"GET /key HTTP/1.1\" 200 -\n"
     ]
    },
    {
     "name": "stdout",
     "output_type": "stream",
     "text": [
      "Ответ перед отправкой: {'code': '681890'}\n"
     ]
    },
    {
     "name": "stderr",
     "output_type": "stream",
     "text": [
      "127.0.0.1 - - [18/Jun/2024 21:48:48] \"GET /key HTTP/1.1\" 200 -\n"
     ]
    },
    {
     "name": "stdout",
     "output_type": "stream",
     "text": [
      "Ответ перед отправкой: {'code': '553982'}\n"
     ]
    }
   ],
   "source": [
    "# Код серверной части на Pyton с фреймворком Flask\n",
    "# Подключение необходимых библиотек и модулей\n",
    "from flask import Flask, request, jsonify, session, make_response\n",
    "from flask_cors import CORS\n",
    "from flask_mysqldb import MySQL\n",
    "from flask_bcrypt import Bcrypt\n",
    "from PIL import Image\n",
    "from scipy.interpolate import splprep, splev\n",
    "from werkzeug.utils import secure_filename\n",
    "from flask_jwt_extended import JWTManager, create_access_token, create_refresh_token, jwt_required, get_jwt_identity\n",
    "import random\n",
    "import os\n",
    "import cv2\n",
    "import numpy as np\n",
    "import time\n",
    "import uuid\n",
    "from flask import Flask, request, jsonify, make_response, session\n",
    "\n",
    "# Создание экземпляра приложения Flask\n",
    "app = Flask(__name__)\n",
    "\n",
    "# Конфигурация для подключения к базе данных MySQL\n",
    "app.config['MYSQL_HOST'] = 'localhost'\n",
    "app.config['MYSQL_PORT'] = 3306\n",
    "app.config['MYSQL_USER'] = 'root'\n",
    "app.config['MYSQL_PASSWORD'] = 'root'\n",
    "app.config['MYSQL_DB'] = 'diplom'\n",
    "\n",
    "# Конфигурация сессионных cookies\n",
    "app.config['SESSION_COOKIE_HTTPONLY'] = False  # Ограничение доступа к сессионному cookie через JavaScript\n",
    "app.config['SESSION_COOKIE_SAMESITE'] = 'Lax'  # Ограничение отправки сессионного cookie только при запросах с того же сайта\n",
    "app.config['SESSION_COOKIE_PATH'] = '/'        # Путь, на котором доступно сессионное cookie\n",
    "app.config['SESSION_COOKIE_SECURE'] = False    # Передача сессионного cookie только через HTTPS\n",
    "\n",
    "# Конфигурация загрузки файлов\n",
    "app.config['ALLOWED_EXTENSIONS'] = {'png'}\n",
    "app.config['UPLOAD_FOLDER'] = 'C:\\server\\data\\htdocs\\Diplom\\my-app\\public\\images'\n",
    "\n",
    "# Инициализация расширений\n",
    "# Разрешение кросс-доменных запросов\n",
    "cors = CORS(app, resources={r\"/api/*\": {\"origins\": \"*\"}}, allow_methods=[\"GET\", \"POST\"])\n",
    "# Настройка секретного ключа для подписи JWT токенов\n",
    "app.config['JWT_SECRET_KEY'] = 'dvrgthdtjdhncyhsth'  \n",
    "# Инициализация JWTManager\n",
    "jwt = JWTManager(app)\n",
    "# Инициализация MySQL\n",
    "mysql = MySQL(app)\n",
    "# Для работы с хэшированием паролей\n",
    "bcrypt = Bcrypt(app)\n",
    "# Инициализация MySQL\n",
    "app.secret_key = os.urandom(30)\n",
    "# Переменная для хранения сгенерированного пароля\n",
    "codekey = None\n",
    "\n",
    "# Функция генерации одноразового кода\n",
    "def generate_kod(filename):\n",
    "    num_pixels = 4 # количество точек ломаной линии\n",
    "    image = Image.open(filename)\n",
    "    width, height = image.size\n",
    "    pixels = np.array(image)\n",
    "    # Цикл для получения 4 случайных пикселей определенного цвета      \n",
    "    while True:  \n",
    "        # получение координат случайного пикселя\n",
    "        random_pixel = (random.randint(0, height - 1), random.randint(0, width - 1)) \n",
    "        # определнение цвета случайного пикселя\n",
    "        target_color = pixels[random_pixel] \n",
    "        # получение 4 случайных пикселей заданного цвета\n",
    "        mask = np.all(pixels == target_color, axis=-1)\n",
    "        colored_pixel_indices = np.column_stack(np.where(mask))\n",
    "        if len(colored_pixel_indices) >= num_pixels:\n",
    "            break  \n",
    "    # аппроксимация сплайном 3 порядка \n",
    "    # для получения начального заполнения генератора\n",
    "    selected_pixels = colored_pixel_indices[random.sample(range(len(colored_pixel_indices)), num_pixels)]\n",
    "    x, y = selected_pixels[:, 1], selected_pixels[:, 0]\n",
    "    tck, u = splprep([x, y], k=3, s=0)\n",
    "    coeff_y = np.array(tck[1])\n",
    "    # получение случайного кода с помощью генератора\n",
    "    odnomer_array = (abs(coeff_y.astype(int))).flatten()\n",
    "    zatravka = ''.join(map(str, odnomer_array))\n",
    "    code = str(random.randint(0, 999999)).zfill(6)\n",
    "    return code\n",
    "  \n",
    "# Функция проверки расширения файла    \n",
    "def allowed_file(filename):\n",
    "    return '.' in filename and filename.rsplit('.', 1)[1].lower() in app.config['ALLOWED_EXTENSIONS']\n",
    "\n",
    "# Функция поиска лица на изображении \n",
    "def face(image_path):\n",
    "    # Загрузка предварительно обученной модели для обнаружения лиц\n",
    "    cascade_path = 'C:/Users/sumarn/anaconda3/Lib/site-packages/cv2/data/haarcascade_frontalface_default.xml'\n",
    "    face_cascade = cv2.CascadeClassifier(cascade_path) \n",
    "    image = cv2.imread(image_path)   \n",
    "    # Преобразование фото в черно-белое\n",
    "    gray = cv2.cvtColor(image, cv2.COLOR_BGR2GRAY)\n",
    "    # Обнаружение лиц\n",
    "    faces = face_cascade.detectMultiScale(gray, scaleFactor=1.1, minNeighbors=5, minSize=(30, 30))\n",
    "#     # Вывод результатов \n",
    "#     for (x, y, w, h) in faces:\n",
    "#         cv2.rectangle(image, (x, y), (x+w, y+h), (255, 0, 0), 2)\n",
    "#     # Отображение фото с обнаруженными лицами\n",
    "#     cv2.namedWindow('Faces Detected', cv2.WINDOW_NORMAL)\n",
    "#     cv2.imshow('Faces Detected', image)\n",
    "#     cv2.waitKey(0)\n",
    "#     cv2.destroyAllWindows()\n",
    "    # True, если лицо обнаружено\n",
    "    return len(faces) > 0\n",
    "\n",
    "# Функция обработки формы страницы регистрации пользователя\n",
    "# Декоратор, определяющий маршрут для обработки POST-запросов по адресу /api/register\n",
    "@app.route(\"/api/register\", methods=['POST'])\n",
    "# Функция обработки запроса регистрации для получения и занесения данных пользователя в БД\n",
    "def register():\n",
    "    data = request.json  # получение данных\n",
    "    # Проверка наличия всех обязательных полей\n",
    "    required_fields = ['login', 'pass', 'email', 'name']\n",
    "    # Проверка на наличие данных в запросе     \n",
    "    if not all(key in data and data[key] for key in required_fields):\n",
    "        return jsonify({'message': 'Отсутствуют обязательные поля'}), 400\n",
    "    # Извлечение данных из запроса     \n",
    "    login = data['login']\n",
    "    passw = data['pass']\n",
    "    email = data['email']\n",
    "    name = data['name']\n",
    "    # Установка логина для android-приложения по умолчанию\n",
    "    codeword = \"root\"\n",
    "    user_uuid = str(uuid.uuid4())  # создание уникального идентификатора пользователя\n",
    "    try:\n",
    "        hashed_password = bcrypt.generate_password_hash(passw).decode('utf-8') # получение хеша пароля\n",
    "    except ValueError as e:\n",
    "        return jsonify({'message': str(e)}), 400\n",
    "    # Формирование запроса для базы данных (проверка существования пользователя)\n",
    "    cur = mysql.connection.cursor()\n",
    "    cur.execute(\"SELECT * FROM users WHERE login = %s OR email = %s\", (login, email))\n",
    "    if cur.fetchone():\n",
    "        cur.close()\n",
    "        return jsonify({'message': 'Логин или электронная почта уже существуют'}), 409\n",
    "    # Формирование запроса для базы данных (внесение данных в БД)\n",
    "    sql = \"INSERT INTO users (login, password, email, name, codeword, uuid) VALUES (%s, %s, %s, %s, %s, %s)\"\n",
    "    val = (login, hashed_password, email, name, codeword, user_uuid)\n",
    "    cur.execute(sql, val)\n",
    "    mysql.connection.commit()\n",
    "    cur.close()\n",
    "    # Создание access и refresh токенов          \n",
    "    access_token = create_access_token(identity=login)\n",
    "    refresh_token = create_refresh_token(identity=login)\n",
    "    # Запрос к базе данных на установку токена \n",
    "    cur = mysql.connection.cursor()\n",
    "    cur.execute(\"UPDATE users SET refresh_token = %s WHERE login = %s\", (refresh_token, login))\n",
    "    mysql.connection.commit()\n",
    "    cur.close()  \n",
    "    # Создание HTTP-ответа с сообщением о успешной регистрации и установкой куки\n",
    "    response = make_response(jsonify({'message': 'Регистрация успешна'}), 200)\n",
    "    response = jsonify({'message': 'Регистрация успешна', 'uuid': user_uuid, 'access_token': access_token, 'refresh_token': refresh_token})\n",
    "    response.set_cookie('access_token', access_token, httponly=True)\n",
    "    response.set_cookie('refresh_token', refresh_token, httponly=True)\n",
    "    response.set_cookie('uuid', user_uuid, httponly=True)    \n",
    "    return response\n",
    "\n",
    "# Функция обработки формы страницы авторизации\n",
    "# Декоратор, определяющий маршрут для обработки POST-запросов по адресу /api/authenticate\n",
    "@app.route(\"/api/authenticate\", methods=['POST'])\n",
    "def authenticate():\n",
    "    session.clear()\n",
    "    data = request.json\n",
    "    # Проверка наличия всех обязательных полей\n",
    "    if not all(key in data for key in ['login', 'pass']):\n",
    "        return jsonify({'message': 'Отсутствуют обязательные поля'}), 400\n",
    "    # Извлечение данных из запроса  \n",
    "    login = data['login']\n",
    "    passw = data['pass']\n",
    "    # Формирование запроса для базы данных (проверка существования пользователя)\n",
    "    cur = mysql.connection.cursor()\n",
    "    cur.execute(\"SELECT * FROM users WHERE login = %s\", (login,))\n",
    "    user = cur.fetchone()\n",
    "    cur.close()\n",
    "    # Формирование запроса для БД (проверка пароля на верность)\n",
    "    if user and bcrypt.check_password_hash(user[2], passw):\n",
    "        user_uuid = user[6]\n",
    "        access_token = create_access_token(identity=login)\n",
    "        refresh_token = create_refresh_token(identity=login)\n",
    "        # Запрос к базе данных на установку токена\n",
    "        cur = mysql.connection.cursor()\n",
    "        cur.execute(\"UPDATE users SET refresh_token = %s WHERE login = %s\", (refresh_token, login))\n",
    "        mysql.connection.commit()\n",
    "        cur.close()\n",
    "        # Создание HTTP-ответа с сообщением о успешной регистрации и установкой куки\n",
    "        response = jsonify({'message': 'Аутентификация успешна', 'uuid': user_uuid, 'access_token': access_token, 'refresh_token': refresh_token})\n",
    "        response.set_cookie('access_token', access_token, httponly=True)\n",
    "        response.set_cookie('refresh_token', refresh_token, httponly=True)\n",
    "        response.set_cookie('uuid', user_uuid, httponly=True)\n",
    "        return response\n",
    "    else:\n",
    "        return jsonify({'message': 'Неверный логин или пароль'}), 401\n",
    "\n",
    "# Функция обработки формы страницы добавления фото пользователя\n",
    "# Декоратор, определяющий маршрут для обработки GET и POST-запросов по адресу /api/photo/<uuid>\n",
    "@app.route(\"/api/photo/<uuid>\", methods=['GET', 'POST'])\n",
    "@jwt_required() \n",
    "def photo(uuid):\n",
    "    # Получает идентификатор пользователя из JWT токена\n",
    "    current_user = get_jwt_identity() \n",
    "    # Обработка GET-запроса\n",
    "    if request.method == 'GET':\n",
    "        # Формирование запроса для БД (для вывода данных)\n",
    "        cur = mysql.connection.cursor()\n",
    "        cur.execute(\"SELECT login, email, name FROM users WHERE uuid = %s\", (uuid,))\n",
    "        user = cur.fetchone()\n",
    "        cur.close()\n",
    "        if user:\n",
    "            login = user[0]\n",
    "            return jsonify({'login': user[0], 'email': user[1], 'name': user[2]}), 200\n",
    "        else:\n",
    "            return jsonify({'message': 'Данные пользователя не найдены'}), 404\n",
    "    # Обработка POST-запроса\n",
    "    elif request.method == 'POST':\n",
    "        if 'file' not in request.files:\n",
    "            return jsonify({'message': 'Нет файла'}), 405\n",
    "        # Добавление изображения\n",
    "        file = request.files['file']\n",
    "        # Проверка верности добавления изображения\n",
    "        if file.filename == '':\n",
    "            return jsonify({'message': 'Не существует выбранного файла'}), 406\n",
    "        if file and allowed_file(file.filename):\n",
    "            # Запрос к БД на получение UUID\n",
    "            cur = mysql.connection.cursor()\n",
    "            cur.execute(\"SELECT login FROM users WHERE uuid = %s\", (uuid,))\n",
    "            user = cur.fetchone()\n",
    "            cur.close()\n",
    "            if user and user[0] == current_user:\n",
    "                login = user[0]\n",
    "                filename = secure_filename(login + '.png')\n",
    "                if not os.path.exists(app.config['UPLOAD_FOLDER']):\n",
    "                    os.makedirs(app.config['UPLOAD_FOLDER'])\n",
    "                image_path = os.path.join(app.config['UPLOAD_FOLDER'], filename)\n",
    "                file.save(image_path)\n",
    "                if face(image_path):\n",
    "                    # Запрос к БД на добавление файла\n",
    "                    cur = mysql.connection.cursor()\n",
    "                    sql = \"INSERT INTO photo (image_path, name_photo) VALUES (%s, %s)\"\n",
    "                    val = (app.config['UPLOAD_FOLDER'], login)\n",
    "                    cur.execute(sql, val)\n",
    "                    mysql.connection.commit()\n",
    "                    cur.close()\n",
    "                    return jsonify({'message': 'Фотография загружена успешно', 'filename': filename}), 201\n",
    "                else:\n",
    "                    return jsonify({'message': 'На изображении не обнаружено лица'}), 422\n",
    "            else:\n",
    "                return jsonify({'message': 'Неверный UUID или доступ запрещен'}), 403\n",
    "        else:\n",
    "            return jsonify({'message': 'Недопустимый формат файла, разрешены только файлы в формате PNG'}), 408\n",
    "\n",
    "# Функция обработки формы страницы регистрации логина для android-приложения\n",
    "# Декоратор, определяющий маршрут для обработки GET и POST-запросов по адресу /api/codeword/<uuid>   \n",
    "@app.route(\"/api/codeword/<uuid>\", methods=['GET', 'POST']) \n",
    "@jwt_required() \n",
    "def codeword(uuid): \n",
    "    current_user = get_jwt_identity() \n",
    "    # Обработка GET-запроса\n",
    "    if request.method == 'GET':\n",
    "        # Формирование запроса для БД (для вывода данных)\n",
    "        cur = mysql.connection.cursor()\n",
    "        cur.execute(\"SELECT login FROM users WHERE uuid = %s\", (uuid,))\n",
    "        user = cur.fetchone()\n",
    "        cur.close()\n",
    "        if user:\n",
    "            loginn = user[0]\n",
    "            cur = mysql.connection.cursor()\n",
    "            cur.execute(\"SELECT u.login, u.email, u.name, p.name_photo FROM users u LEFT JOIN photo p ON u.login = p.name_photo WHERE u.login = %s\", (loginn,))\n",
    "            user = cur.fetchone()\n",
    "            cur.close()\n",
    "            # Вывод фотографии\n",
    "            if user:\n",
    "                photo_path = user[3] + \".png\"\n",
    "                return jsonify({'login': user[0], 'email': user[1], 'name': user[2], 'photo_path': photo_path}), 200\n",
    "            else:\n",
    "                return jsonify({'message': 'Данные пользователя не найдены'}), 404\n",
    "        else:\n",
    "            return jsonify({'message': 'Пользователь с указанным uuid не найден'}), 407\n",
    "    # Обработка POST-запроса\n",
    "    elif request.method == 'POST':\n",
    "        data = request.json\n",
    "        codeword = data.get('codeword')\n",
    "        # Проверка наличия всех обязательных полей\n",
    "        if not codeword:\n",
    "            return jsonify({'message': 'Поле codeword не может быть пустым'}), 415\n",
    "        # Установка логина для android-приложения\n",
    "        cur = mysql.connection.cursor()\n",
    "        cur.execute(\"UPDATE users SET codeword = %s WHERE uuid = %s\", (codeword, uuid))\n",
    "        mysql.connection.commit()\n",
    "        cur.close()\n",
    "        return jsonify({'message': 'Логин для android-приложения обновлен успешно'}), 200\n",
    "\n",
    "# Функция обработки формы страницы ввода кода\n",
    "# Декоратор, определяющий маршрут для обработки GET и POST-запросов по адресу /api/autf/<uuid>\n",
    "@app.route(\"/api/autf/<uuid>\", methods=['GET', 'POST'])\n",
    "@jwt_required()\n",
    "def autf(uuid):\n",
    "    current_user = get_jwt_identity()\n",
    "    global login\n",
    "    # Обработка GET-запроса\n",
    "    if request.method == 'GET':\n",
    "        # Запрос к БД на получение UUID \n",
    "        cur = mysql.connection.cursor()\n",
    "        cur.execute(\"SELECT login FROM users WHERE uuid = %s\", (uuid,))\n",
    "        user = cur.fetchone()\n",
    "        cur.close()\n",
    "        # Запрос к БД на получение данных пользователя\n",
    "        if user:\n",
    "            loginn = user[0]\n",
    "            cur = mysql.connection.cursor()\n",
    "            cur.execute(\"SELECT u.login, u.email, u.name, p.name_photo FROM users u LEFT JOIN photo p ON u.login = p.name_photo WHERE u.login = %s\", (loginn,))\n",
    "            user = cur.fetchone()\n",
    "            cur.close()\n",
    "            login = user[0]\n",
    "            # Получение фотографии\n",
    "            if user:\n",
    "                photo_path = user[3] + \".png\"\n",
    "                return jsonify({'login': user[0], 'email': user[1], 'name': user[2], 'photo_path': photo_path}), 200\n",
    "            else:\n",
    "                return jsonify({'message': 'Данные пользователя не найдены'}), 404\n",
    "        else:\n",
    "            return jsonify({'message': 'Пользователь с указанным uuid не найден'}), 407\n",
    "    # Обработка POST-запроса\n",
    "    elif request.method == 'POST':\n",
    "        data = request.json\n",
    "        # Получение данных из запроса\n",
    "        kod = data['code']\n",
    "        cur = mysql.connection.cursor()\n",
    "        cur.execute(\"SELECT * FROM kod WHERE login = %s\", (login,))\n",
    "        hashed = cur.fetchone()\n",
    "        cur.close()\n",
    "        if hashed and bcrypt.check_password_hash(hashed[2], kod):\n",
    "            return jsonify({'success': True, 'message': 'Аутентификация успешна'}), 200\n",
    "        else:\n",
    "            return jsonify({'success': False, 'message': 'Неверный код'}), 410\n",
    "\n",
    "# Функция обработки формы страницы пользователя\n",
    "# Декоратор, определяющий маршрут для обработки GET-запросов по адресу /api/other/<uuid>      \n",
    "@app.route(\"/api/other/<uuid>\", methods=['GET']) \n",
    "def other(uuid): \n",
    "        # Запрос к БД на получение UUID пользователя\n",
    "        cur = mysql.connection.cursor()\n",
    "        cur.execute(\"SELECT login FROM users WHERE uuid = %s\", (uuid,))\n",
    "        user = cur.fetchone()\n",
    "        cur.close()\n",
    "        # Запрос к БД на получение данных пользователя        \n",
    "        cur = mysql.connection.cursor()\n",
    "        cur.execute(\"DELETE FROM kod WHERE login = %s\", (login,))\n",
    "        mysql.connection.commit()\n",
    "        cur.close()     \n",
    "        # Вывод фотографии пользователя       \n",
    "        if user:\n",
    "            loginn = user[0]\n",
    "            cur = mysql.connection.cursor()\n",
    "            cur.execute(\"SELECT u.login, u.email, u.name, p.name_photo FROM users u LEFT JOIN photo p ON u.login = p.name_photo WHERE u.login = %s\", (loginn,))\n",
    "            user = cur.fetchone()\n",
    "            cur.close()\n",
    "            if user:\n",
    "                photo_path = user[3] \n",
    "                photo_path = photo_path + \".png\"\n",
    "                return jsonify({'login': user[0], 'email': user[1], 'name': user[2], 'photo_path': photo_path}), 200\n",
    "            else:\n",
    "                return jsonify({'message': 'Данные пользователя не найдены'}), 404\n",
    "        else:\n",
    "            return jsonify({'message': 'Пользователь с указанным uuid не найден'}), 407\n",
    "       \n",
    "# Функция обработки для страницв ввода логина и пароля в android-приложении\n",
    "# Декоратор, определяющий маршрут для обработки POST-запросов по адресу /andro \n",
    "@app.route('/andro', methods=['POST'])\n",
    "def andro():\n",
    "    data = request.json\n",
    "    login = data['username']\n",
    "    passw = data['password']\n",
    "    cur = mysql.connection.cursor()\n",
    "    cur.execute(\"SELECT * FROM users WHERE codeword = %s\", (login,))\n",
    "    user = cur.fetchone()\n",
    "    cur.close() \n",
    "    if user and bcrypt.check_password_hash(user[2], passw):        \n",
    "        return jsonify({'success': True, 'message': 'Аутентификация успешна'}), 200\n",
    "    else:\n",
    "        return jsonify({'success': False, 'message': 'Неверный логин или пароль'}), 401     \n",
    "\n",
    "# Функция для отправки кода в android-приложение \n",
    "# Декоратор, определяющий маршрут для обработки GET и POST-запросов по адресу /key \n",
    "@app.route('/key', methods=['GET', 'POST'])\n",
    "def key():\n",
    "    global codekey\n",
    "    global filename\n",
    "    global login\n",
    "    # Обработка POST-запроса\n",
    "    if request.method == 'POST':\n",
    "        data = request.json\n",
    "        login = data['login']\n",
    "        namephoto = login\n",
    "        cur = mysql.connection.cursor()\n",
    "        cur.execute(\"SELECT image_path, name_photo FROM photo WHERE name_photo = %s\", (namephoto,))\n",
    "        photo = cur.fetchone()\n",
    "        cur.close()\n",
    "        if photo:\n",
    "            file_path = photo[0]\n",
    "            file_name = photo[1]\n",
    "            filename = os.path.join(file_path, file_name + \".png\")\n",
    "            print(filename)  \n",
    "        if photo:\n",
    "            return jsonify({'success': True, 'message': 'Код обновлен'}), 200\n",
    "        else:\n",
    "            return jsonify({'success': False, 'message': 'Фотография не найдена'}), 411\n",
    "    # Обработка GET-запроса\n",
    "    elif request.method == 'GET':\n",
    "        codekey = generate_kod(filename) \n",
    "        hashed_code = bcrypt.generate_password_hash(codekey).decode('utf-8')\n",
    "        key = codekey\n",
    "        # Удаление кода из БД\n",
    "        cur = mysql.connection.cursor()\n",
    "        cur.execute(\"DELETE FROM kod WHERE login = %s\", (login,))\n",
    "        mysql.connection.commit()\n",
    "        cur.close()\n",
    "        # Обновление кода в БД\n",
    "        cur = mysql.connection.cursor()\n",
    "        cur.execute(\"INSERT INTO kod (login, kod) VALUES (%s, %s)\", (login, hashed_code))\n",
    "        mysql.connection.commit()\n",
    "        cur.close()\n",
    "        # Отладочный вывод\n",
    "        print(\"Ответ перед отправкой:\", {'code': key}) \n",
    "        return jsonify({'code': key})\n",
    "        \n",
    "# Декоратор, определяющий маршрут для обработки запросов по любому адресу      \n",
    "@app.route(\"/\")\n",
    "def hello():\n",
    "    # Отладочный вывод\n",
    "    return \"Hello\"\n",
    "\n",
    "if __name__ == \"__main__\":\n",
    "    app.run() # Запуск веб-сервера"
   ]
  },
  {
   "cell_type": "code",
   "execution_count": null,
   "id": "35bc9f25",
   "metadata": {},
   "outputs": [],
   "source": []
  },
  {
   "cell_type": "code",
   "execution_count": null,
   "id": "7f94a3a2",
   "metadata": {},
   "outputs": [],
   "source": []
  },
  {
   "cell_type": "code",
   "execution_count": null,
   "id": "c51f34af",
   "metadata": {},
   "outputs": [],
   "source": []
  },
  {
   "cell_type": "code",
   "execution_count": null,
   "id": "67052238",
   "metadata": {},
   "outputs": [],
   "source": []
  },
  {
   "cell_type": "code",
   "execution_count": null,
   "id": "4c5c232b",
   "metadata": {},
   "outputs": [],
   "source": []
  },
  {
   "cell_type": "code",
   "execution_count": null,
   "id": "e7118fe1",
   "metadata": {},
   "outputs": [],
   "source": []
  },
  {
   "cell_type": "code",
   "execution_count": null,
   "id": "721512af",
   "metadata": {},
   "outputs": [],
   "source": []
  },
  {
   "cell_type": "code",
   "execution_count": null,
   "id": "fca16eee",
   "metadata": {},
   "outputs": [],
   "source": []
  },
  {
   "cell_type": "code",
   "execution_count": null,
   "id": "cd7d1b4a",
   "metadata": {},
   "outputs": [],
   "source": []
  },
  {
   "cell_type": "code",
   "execution_count": null,
   "id": "485b7288",
   "metadata": {},
   "outputs": [],
   "source": []
  },
  {
   "cell_type": "code",
   "execution_count": null,
   "id": "277febff",
   "metadata": {},
   "outputs": [],
   "source": []
  },
  {
   "cell_type": "code",
   "execution_count": null,
   "id": "ad8c20fc",
   "metadata": {},
   "outputs": [],
   "source": []
  },
  {
   "cell_type": "code",
   "execution_count": 1,
   "id": "4a6764dd",
   "metadata": {},
   "outputs": [],
   "source": [
    "# !pip install Flask-MySQL\n",
    "# !pip install --upgrade Flask\n",
    "# !pip install mysql-connector-python\n",
    "# !pip install Flask-Bcrypt\n",
    "# !pip install redis\n",
    "#  !pip install apscheduler"
   ]
  }
 ],
 "metadata": {
  "kernelspec": {
   "display_name": "Python 3 (ipykernel)",
   "language": "python",
   "name": "python3"
  },
  "language_info": {
   "codemirror_mode": {
    "name": "ipython",
    "version": 3
   },
   "file_extension": ".py",
   "mimetype": "text/x-python",
   "name": "python",
   "nbconvert_exporter": "python",
   "pygments_lexer": "ipython3",
   "version": "3.10.9"
  }
 },
 "nbformat": 4,
 "nbformat_minor": 5
}
